{
 "cells": [
  {
   "cell_type": "markdown",
   "metadata": {
    "id": "Gp2WddtV9IwG"
   },
   "source": [
    "# Programa Ingenias+ Data Science"
   ]
  },
  {
   "cell_type": "markdown",
   "metadata": {
    "id": "l1Ay3nSs9IwN"
   },
   "source": [
    "## Clase 4: Introduccion a NumPy"
   ]
  },
  {
   "cell_type": "markdown",
   "metadata": {
    "id": "X03mviQS9IyL"
   },
   "source": [
    "# Ejercicios\n",
    "\n",
    "1. Crear un arreglo de ceros de longitud 12\n",
    "2. Crear un arreglo de longitud 10 con ceros en todas sus posiciones y un 10 en la posición número 5\n",
    "3. Crear un arreglo que tenga los números del 10 al 49\n",
    "4. Crear una arreglo 2d de shape (3, 3) que tenga los números del 0 al 8\n",
    "5. Crear un arreglo de números aleatorios de longitud 100 y obtener su media y varianza\n",
    "6. Calcular la media de un arreglo usando np.sum\n",
    "7. Calcular la varianza de un arreglo usando np.sum y np.mean\n",
    "8. Crear un array de números aleatorios usando np.random.randn.\n"
   ]
  },
  {
   "cell_type": "code",
   "execution_count": 9,
   "metadata": {
    "id": "G0NMKT609IyM"
   },
   "outputs": [],
   "source": [
    "import numpy as np"
   ]
  },
  {
   "cell_type": "code",
   "execution_count": 2,
   "metadata": {},
   "outputs": [
    {
     "name": "stdout",
     "output_type": "stream",
     "text": [
      "[0. 0. 0. 0. 0. 0. 0. 0. 0. 0. 0. 0.]\n"
     ]
    }
   ],
   "source": [
    "#ejercicio 1\n",
    "nuevo_arreglo = np.zeros(12)\n",
    "print(nuevo_arreglo)\n"
   ]
  },
  {
   "cell_type": "code",
   "execution_count": 4,
   "metadata": {},
   "outputs": [
    {
     "name": "stdout",
     "output_type": "stream",
     "text": [
      "[ 0.  0.  0.  0. 10.  0.  0.  0.  0.  0.]\n"
     ]
    }
   ],
   "source": [
    "#ejercicio 2\n",
    "arreglo_2 = np.zeros(10)\n",
    "arreglo_2[4] = 10\n",
    "print(arreglo_2)"
   ]
  },
  {
   "cell_type": "code",
   "execution_count": 4,
   "metadata": {},
   "outputs": [
    {
     "data": {
      "text/plain": [
       "array([10, 11, 12, 13, 14, 15, 16, 17, 18, 19, 20, 21, 22, 23, 24, 25, 26,\n",
       "       27, 28, 29, 30, 31, 32, 33, 34, 35, 36, 37, 38, 39, 40, 41, 42, 43,\n",
       "       44, 45, 46, 47, 48, 49])"
      ]
     },
     "execution_count": 4,
     "metadata": {},
     "output_type": "execute_result"
    }
   ],
   "source": [
    "#ejercicio 3\n",
    "arreglo3 = np.arange(10, 50)\n",
    "arreglo3\n"
   ]
  },
  {
   "cell_type": "code",
   "execution_count": 12,
   "metadata": {},
   "outputs": [
    {
     "name": "stdout",
     "output_type": "stream",
     "text": [
      "[[0 1 2]\n",
      " [3 4 5]\n",
      " [6 7 8]]\n"
     ]
    }
   ],
   "source": [
    "#ejercicio 4\n",
    "arreglo4 = np.arange (0, 9)\n",
    "arreglo4.shape = (3, 3)\n",
    "print(arreglo4)"
   ]
  },
  {
   "cell_type": "code",
   "execution_count": 39,
   "metadata": {},
   "outputs": [
    {
     "name": "stdout",
     "output_type": "stream",
     "text": [
      "[59  1  2 52 61 66 47 48 52 48 50 44 96 29 27 71 27 54 18 92 14 72 70 40\n",
      " 65 97 97 40 82 72 72 12 43 93 42 16 16 51 57  2 49 16 38  8 26 34 36 47\n",
      " 81 48 36 13 38 35 14 24 41 26 53 92 97 59 56 62 89 25 51 62 10 73 91 37\n",
      " 80 49 39 20 87  5 99  3 64 37 14 44 74 66 56 48 10 38 37 89  0  0 55 59\n",
      " 16 24 88 10]\n"
     ]
    }
   ],
   "source": [
    "#ejercicio 5\n",
    "arreglo5= np.random.randint(0, 100, 100)\n",
    "print(arreglo5)"
   ]
  },
  {
   "cell_type": "code",
   "execution_count": 40,
   "metadata": {},
   "outputs": [
    {
     "name": "stdout",
     "output_type": "stream",
     "text": [
      "46.75\n"
     ]
    }
   ],
   "source": [
    "#media\n",
    "media = np.mean(arreglo5)\n",
    "print(media)\n"
   ]
  },
  {
   "cell_type": "code",
   "execution_count": 41,
   "metadata": {},
   "outputs": [
    {
     "data": {
      "text/plain": [
       "741.6875"
      ]
     },
     "execution_count": 41,
     "metadata": {},
     "output_type": "execute_result"
    }
   ],
   "source": [
    "#varianza\n",
    "varianza = np.var(arreglo5)\n",
    "varianza"
   ]
  },
  {
   "cell_type": "code",
   "execution_count": 42,
   "metadata": {},
   "outputs": [
    {
     "name": "stdout",
     "output_type": "stream",
     "text": [
      "46.75\n"
     ]
    }
   ],
   "source": [
    "#ejercicio 6 Calcular la media de un arreglo usando np.sum\n",
    "arreglo6 = np.sum(arreglo5)\n",
    "promedio =arreglo6 / 100\n",
    "print(promedio)"
   ]
  },
  {
   "cell_type": "code",
   "execution_count": 77,
   "metadata": {},
   "outputs": [
    {
     "name": "stdout",
     "output_type": "stream",
     "text": [
      "741.6875\n"
     ]
    }
   ],
   "source": [
    "#ejercicio 7\n",
    "funcionvarianza = np.array(arreglo5)\n",
    "print ((np.sum((funcionvarianza - np.mean(arreglo5))**2)) / len(arreglo5))"
   ]
  },
  {
   "cell_type": "code",
   "execution_count": 76,
   "metadata": {},
   "outputs": [
    {
     "data": {
      "text/plain": [
       "array([[[-1.13733574, -0.82364561,  0.0357769 ,  2.85536688,\n",
       "         -2.22703471],\n",
       "        [ 0.46463303, -0.20235555,  0.90778397,  1.15390694,\n",
       "         -0.08095143],\n",
       "        [-0.38251811,  0.10769196, -1.14502812,  0.54923026,\n",
       "         -0.36715994],\n",
       "        [-0.84258387, -0.06396073,  0.22234733, -0.87392311,\n",
       "         -1.01162011],\n",
       "        [-0.38796998, -2.22615408, -1.13118226,  1.96249237,\n",
       "         -1.43083605],\n",
       "        [-1.41286106,  0.52614523,  0.13557067,  0.40255874,\n",
       "         -0.88158895],\n",
       "        [ 2.10612993, -0.2730023 ,  0.41049257, -0.13545806,\n",
       "          2.08618071],\n",
       "        [ 1.37402251,  0.76905126, -0.23478874,  2.15985473,\n",
       "         -0.2085008 ],\n",
       "        [ 0.16337302, -0.98508424, -0.77592587, -0.84052566,\n",
       "          0.93504483],\n",
       "        [ 0.61634636,  0.82563842,  1.05458965, -1.58243189,\n",
       "          0.57190854]]])"
      ]
     },
     "execution_count": 76,
     "metadata": {},
     "output_type": "execute_result"
    }
   ],
   "source": [
    "#ejercicio 8\n",
    "arreglo8= np.random.randn (1,10, 5)\n",
    "arreglo8"
   ]
  },
  {
   "cell_type": "code",
   "execution_count": null,
   "metadata": {},
   "outputs": [],
   "source": []
  }
 ],
 "metadata": {
  "colab": {
   "provenance": []
  },
  "kernelspec": {
   "display_name": "Python 3 (ipykernel)",
   "language": "python",
   "name": "python3"
  },
  "language_info": {
   "codemirror_mode": {
    "name": "ipython",
    "version": 3
   },
   "file_extension": ".py",
   "mimetype": "text/x-python",
   "name": "python",
   "nbconvert_exporter": "python",
   "pygments_lexer": "ipython3",
   "version": "3.10.9"
  }
 },
 "nbformat": 4,
 "nbformat_minor": 1
}
